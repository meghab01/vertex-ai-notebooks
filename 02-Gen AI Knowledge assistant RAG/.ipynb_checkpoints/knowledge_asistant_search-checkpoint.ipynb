{
 "cells": [
  {
   "cell_type": "markdown",
   "metadata": {
    "id": "359697d5"
   },
   "source": [
    "# Gen AI Knowledge Assistant for FSI\n",
    "\n",
    "Key components of this lab:\n",
    "\n",
    "    Vertex AI Search config\n",
    "\n",
    "    Build LLM context using extractive segments\n",
    "\n",
    "    Answer retrieval from LLMs"
   ]
  },
  {
   "cell_type": "code",
   "execution_count": 134,
   "metadata": {
    "id": "ohPUPez8imvE",
    "tags": []
   },
   "outputs": [],
   "source": [
    "# %pip install google-cloud-discoveryengine google-auth pandas --upgrade --user -q"
   ]
  },
  {
   "cell_type": "code",
   "execution_count": 108,
   "metadata": {},
   "outputs": [],
   "source": [
    "import pandas as pd\n",
    "from google.api_core.client_options import ClientOptions\n",
    "from google.cloud import discoveryengine_v1beta as discoveryengine\n",
    "from google.protobuf.json_format import MessageToDict"
   ]
  },
  {
   "cell_type": "code",
   "execution_count": 129,
   "metadata": {
    "id": "uVxFSrppK8Oy"
   },
   "outputs": [],
   "source": [
    "PROJECT_ID = \"exp-mb\"  # @param {type:\"string\"}\n",
    "LOCATION = \"us\"  # @param {type:\"string\"}\n",
    "DATA_STORE_ID = \"test-ds-jsonu_1694817664471\"  # @param {type:\"string\"}"
   ]
  },
  {
   "cell_type": "markdown",
   "metadata": {},
   "source": [
    "## Vertex AI Search config"
   ]
  },
  {
   "cell_type": "code",
   "execution_count": 119,
   "metadata": {},
   "outputs": [],
   "source": [
    "def search_data_store(\n",
    "    docs_to_retrieve,\n",
    "    segment_count,\n",
    "    project_id: str,\n",
    "    location: str,\n",
    "    data_store_id: str,\n",
    "    search_query: str,\n",
    ") -> discoveryengine.SearchResponse:\n",
    "    client_options = (\n",
    "        ClientOptions(api_endpoint=f\"us-discoveryengine.googleapis.com\")\n",
    "    )\n",
    "\n",
    "    # Create a client\n",
    "    client = discoveryengine.SearchServiceClient(client_options=client_options)\n",
    "    serving_config = client.serving_config_path(\n",
    "        project=project_id,\n",
    "        location=location,\n",
    "        data_store=data_store_id,\n",
    "        serving_config=\"default_config\",\n",
    "    )\n",
    "\n",
    "    content_search_spec = discoveryengine.SearchRequest.ContentSearchSpec(\n",
    "        snippet_spec=discoveryengine.SearchRequest.ContentSearchSpec.SnippetSpec(\n",
    "            return_snippet=True\n",
    "        ),\n",
    "        extractive_content_spec=discoveryengine.SearchRequest.ContentSearchSpec.ExtractiveContentSpec(\n",
    "            max_extractive_answer_count=1,\n",
    "            max_extractive_segment_count=segment_count,\n",
    "        ),\n",
    "        summary_spec=discoveryengine.SearchRequest.ContentSearchSpec.SummarySpec(\n",
    "            summary_result_count=5,\n",
    "            include_citations=True,\n",
    "            # return_extractive_segment_score=1,\n",
    "            ignore_adversarial_query=False,\n",
    "            ignore_non_summary_seeking_query=False,\n",
    "        ),\n",
    "    )\n",
    "\n",
    "    request = discoveryengine.SearchRequest(\n",
    "        serving_config=serving_config,\n",
    "        query=search_query,\n",
    "        page_size=docs_to_retrieve,\n",
    "        content_search_spec=content_search_spec,\n",
    "        query_expansion_spec=discoveryengine.SearchRequest.QueryExpansionSpec(\n",
    "            condition=discoveryengine.SearchRequest.QueryExpansionSpec.Condition.AUTO,\n",
    "        ),\n",
    "        spell_correction_spec=discoveryengine.SearchRequest.SpellCorrectionSpec(\n",
    "            mode=discoveryengine.SearchRequest.SpellCorrectionSpec.Mode.AUTO\n",
    "        ),\n",
    "    )\n",
    "\n",
    "    response = client.search(request)\n",
    "    return response"
   ]
  },
  {
   "cell_type": "markdown",
   "metadata": {},
   "source": [
    "# Return search summary, extractive segments, confidence scores\n",
    "\n",
    "Use 3 documents and 5 segments from earch document"
   ]
  },
  {
   "cell_type": "code",
   "execution_count": 124,
   "metadata": {},
   "outputs": [],
   "source": [
    "docs_to_retrieve = 3\n",
    "segment_count = 5\n",
    "search_query = \"Compare Harry Potter, lord of the rings and game of thrones\"\n",
    "response = search_data_store(docs_to_retrieve,segment_count, PROJECT_ID, LOCATION, DATA_STORE_ID, search_query)\n",
    "# print(response)"
   ]
  },
  {
   "cell_type": "markdown",
   "metadata": {},
   "source": [
    "# Build LLM context using extractive segments\n",
    "\n",
    "Use 2 segments from each document to build context"
   ]
  },
  {
   "cell_type": "code",
   "execution_count": 127,
   "metadata": {},
   "outputs": [
    {
     "name": "stdout",
     "output_type": "stream",
     "text": [
      "From September 2022, Amazon has been presenting a multi-season television series of stories, The Lord of the Rings: The Rings of Power. It is set at the beginning of the Second Age, long before the time of The Lord of the Rings, based on materials in the novel's appendices.[118][119][120]\n",
      "\n",
      "In early 2023, Warner Bros Discovery announced that multiple new movies set in Middle-earth are in development, and will be produced along with New Line Cinema and Freemode.[121]\n",
      "\n",
      "Audiobooks\n",
      "In 1990, Recorded Books published an audio version of The Lord of the Rings,[122] read by the British actor Rob Inglis. A large-scale musical theatre adaptation, The Lord of the Rings, was first staged in Toronto, Ontario, Canada in 2006 and opened in London in June 2007; it was a commercial failure.[123]\n",
      "\n",
      "In 2013, the artist Phil Dragash recorded the whole of the book, using the score from Peter Jackson's movies.[124][125][126]\n",
      "\n",
      "During the COVID-19 lockdown, Andy Serkis read the entire book of The Hobbit online to raise money for charity.[127] He then recorded the work again as an audiobook.[128] The cover art was done by Alan Lee. In 2021, Serkis recorded The Lord of the Rings novels.[129]\n",
      "\n",
      "\n",
      "\n",
      "Legacy\n",
      "Further information: Works inspired by J. R. R. Tolkien\n",
      "Influence on fantasy\n",
      "Main article: Tolkien's impact on fantasy\n",
      "The enormous popularity of Tolkien's work expanded the demand for fantasy. Largely thanks to The Lord of the Rings, the genre flowered throughout the 1960s and enjoys popularity to the present day.[130] The opus has spawned many imitations, such as The Sword of Shannara, which Lin Carter called \"the single most cold-blooded, complete rip-off of another book that I have ever read,\"[131] as well as alternate interpretations of the story, such as The Last Ringbearer. The Legend of Zelda, which popularized the action-adventure game genre in the 1980s, was inspired by The Lord of the Rings among other fantasy books.[132][133] Dungeons & Dragons, which popularized the role-playing game genre in the 1970s, features several races from The Lord of the Rings, including halflings (hobbits), elves, dwarves, half-elves, orcs, and dragons. However, Gary Gygax, the lead designer of the game, stated that he included these elements as a marketing move to draw on the popularity the work enjoyed at the time he was developing the game.[134] Because Dungeons & Dragons has gone on to influence many popular games, especially role-playing video games, the influence of The Lord of the Rings extends to many of them, with titles such as Dragon Quest,[135][136] EverQuest, the Warcraft series, and The Elder Scrolls series of games[137] as well as video games set in Middle-earth itself.\n",
      "\n",
      "Music\n",
      "Further information: Music of Middle-earth\n",
      "In 1965, the songwriter Donald Swann, best known for his collaboration with Michael Flanders as Flanders & Swann, set six poems from The Lord of the Rings and one from The Adventures of Tom Bombadil (\"Errantry\") to music. When Swann met with Tolkien to play the songs for his approval, Tolkien suggested for \"Namárië\" (Galadriel's lament) a setting reminiscent of plain chant, which Swann accepted.[138] The songs were published in 1967 as The Road Goes Ever On: A Song Cycle,[139] and a recording of the songs performed by singer William Elvin with Swann on piano was issued that same year by Caedmon Records as Poems and Songs of Middle Earth.[140]\n",
      "\n",
      "\n",
      "\n",
      "Harry Potter is a series of seven fantasy novels written by British author J. K. Rowling. The novels chronicle the lives of a young wizard, Harry Potter, and his friends Hermione Granger and Ron Weasley, all of whom are students at Hogwarts School of Witchcraft and Wizardry. The main story arc concerns Harry's conflict with Lord Voldemort, a dark wizard who intends to become immortal, overthrow the wizard governing body known as the Ministry of Magic, and subjugate all wizards and Muggles (non-magical people).\n",
      "\n",
      "The series was originally published in English by Bloomsbury in the United Kingdom and Scholastic Press in the United States. A series of many genres, including fantasy, drama, coming-of-age fiction, and the British school story (which includes elements of mystery, thriller, adventure, horror, and romance), the world of Harry Potter explores numerous themes and includes many cultural meanings and references.[1] According to Rowling, the main theme is death.[2] Other major themes in the series include prejudice, corruption, and madness.[3]\n",
      "\n",
      "Since the release of the first novel, Harry Potter and the Philosopher's Stone, on 26 June 1997, the books have found immense popularity, positive reviews, and commercial success worldwide. They have attracted a wide adult audience as well as younger readers, and are widely considered cornerstones of modern literature.[4][5] As of February 2023, the books have sold more than 600 million copies worldwide, making them the best-selling book series in history, and have been available in 85 languages.[6] The last four books consecutively set records as the fastest-selling books in history, with the final instalment selling roughly 2.7 million copies in the United Kingdom and 8.3 million copies in the United States within twenty-four hours of its release.\n",
      "\n",
      "The original seven books were adapted into an eight-part namesake film series by Warner Bros. Pictures. In 2016, the total value of the Harry Potter franchise was estimated at $25 billion,[7] making Harry Potter one of the highest-grossing media franchises of all time. Harry Potter and the Cursed Child is a play based on a story co-written by Rowling.\n",
      "\n",
      "\n",
      "\n",
      "The success of the books and films has allowed the Harry Potter franchise to expand with numerous derivative works, a travelling exhibition that premiered in Chicago in 2009, a studio tour in London that opened in 2012, a digital platform on which J. K. Rowling updates the series with new information and insight, and a pentalogy of spin-off films premiering in November 2016 with Fantastic Beasts and Where to Find Them, among many other developments. Themed attractions, collectively known as The Wizarding World of Harry Potter, have been built at several Universal Destinations & Experiences amusement parks around the world.\n",
      "\n",
      "Plot\n",
      "\n",
      "\n",
      "\n",
      "A Game of Thrones is the first novel in A Song of Ice and Fire, a series of fantasy novels by American author George R. R. Martin. It was first published on August 1, 1996. The novel won the 1997 Locus Award[2] and was nominated for both the 1997 Nebula Award[2] and the 1997 World Fantasy Award.[3] The novella Blood of the Dragon, comprising the Daenerys Targaryen chapters from the novel, won the 1997 Hugo Award for Best Novella. In January 2011, the novel became a New York Times Bestseller[4] and reached No. 1 on the list in July 2011.[5]\n",
      "\n",
      "In the novel, recounting events from various points of view, Martin introduces the plot-lines of the noble houses of Westeros, the Wall, and the Targaryens. The novel has inspired several spin-off works, including several games. It is also the namesake and basis for the first season of Game of Thrones, an HBO television series that premiered in April 2011. A paperback TV tie-in re-edition was published in March 2013, titled Game of Thrones.[6]\n",
      "\n",
      "Plot\n",
      "A Game of Thrones follows three principal storylines simultaneously.\n",
      "\n",
      "In the Seven Kingdoms\n",
      "Upon the death of Lord Jon Arryn, the principal advisor to King Robert Baratheon, Robert recruits his childhood friend Eddard \"Ned\" Stark, now Warden of the North, to replace Arryn as Hand of the King, and to betroth his daughter Sansa to Robert's son Joffrey. Ned accepts the position when he learns that Arryn's widow Lysa believes he was poisoned by Robert's wife Queen Cersei Lannister and her family. Shortly thereafter, Ned's son Bran discovers Cersei having sex with her twin brother Jaime Lannister, who throws Bran from the tower to conceal their affair, leaving him comatose and paralyzing his legs.\n",
      "\n",
      "Ned leaves his castle Winterfell and departs for the capital city, King's Landing, bringing along his daughters Sansa and Arya. Upon arriving in King's Landing to take his post as Hand, Ned finds that Robert is an ineffective king whose only interests are hunting, drinking, and womanizing.\n",
      "\n",
      "\n",
      "\n",
      "Having multiple viewpoints is crucial to the grayness of the characters. You have to be able to see the struggle from both sides, because real human beings in a war have all these processes of self-justification, telling ourselves why what we're doing is the right thing.[9]\n",
      "\n",
      "\n",
      "\n",
      "\n"
     ]
    }
   ],
   "source": [
    "counter = 2\n",
    "derived_ext_seg_content=\"\"\n",
    "for result in response.results:\n",
    "    # print(result.document._pb)\n",
    "    data = MessageToDict(result.document._pb)\n",
    "    derived_struct_data = data.get(\"derivedStructData\")\n",
    "    extractive_segments = derived_struct_data.get(\"extractive_segments\")\n",
    "    for i, ext_seg in enumerate(extractive_segments):\n",
    "        if i<counter :\n",
    "            ext_seg_content = ext_seg.get(\"content\")\n",
    "            derived_ext_seg_content+=ext_seg_content+ \"\\n\\n\\n\\n\"\n",
    "            i += 1\n",
    "        else:\n",
    "            pass\n",
    "print(derived_ext_seg_content)\n"
   ]
  },
  {
   "cell_type": "markdown",
   "metadata": {},
   "source": [
    "# Answer retrieval from LLMs"
   ]
  },
  {
   "cell_type": "code",
   "execution_count": 89,
   "metadata": {},
   "outputs": [],
   "source": [
    "import vertexai\n",
    "from vertexai.language_models import TextGenerationModel\n",
    "vertexai.init(project=\"exp-mb\", location=\"us-central1\")\n",
    "def llm_answer(question, context):\n",
    "\n",
    "    prompt = f\"\"\" \n",
    "        You are an intelligent, detailed, knowledge assistant. Generate a thorough answer from the context provided to you. Do not say anything not in the context provided to you.\n",
    "        You will only process prompts that do not contain any PII, MNPI, offensive or derogatory language and will not discuss any sensitive, illegal or harmful activities.\n",
    "        You always follow the Rules\n",
    "\n",
    "\n",
    "        [Context]: {context}\n",
    "\n",
    "        [Question]:\n",
    "\n",
    "        {question}\n",
    "                \n",
    "        [Rules]:\n",
    " \n",
    "        You MUST use the context to answer the question.\n",
    "        You are truthful and never lie. Never make up facts and if you are not 100% sure, reply with why you cannot answer in a truthful way.\n",
    "        If you do not know the answer, just say \"I don't know\".\n",
    "        You MUST always use the context and only the context  to respond.\n",
    "        Never try to make up a response.\n",
    "        DO NOT tell jokes.\n",
    "        You MUST show the context you used to respond.\n",
    "\n",
    "        [Business Rules]:\n",
    "        You are not an advisor and do not give investment or other advice.\n",
    "        You do not give stock prices.\n",
    "        You do not give personal information or identifiable information like account number, social security, name, email, phone numbers, amounts etc.\n",
    "\n",
    "\n",
    "        [Validation Rules]:\n",
    "        You validate your summary against the context. If an answer cannot be found in the context, just say \"I don't know\".\n",
    "        If the context is empty, just say \"I don't know\".\n",
    "\n",
    "\n",
    "        Before you generate answer, prove you follow the Rules\n",
    "\n",
    "        [Generated Answer]:\n",
    "\n",
    "\n",
    "        \"\"\"\n",
    "        \n",
    "    model = TextGenerationModel.from_pretrained(\"text-unicorn@001\")\n",
    "    parameters = {\n",
    "            \"candidate_count\": 1,\n",
    "            \"max_output_tokens\": 64,\n",
    "            \"temperature\": 1,\n",
    "            \"top_k\": 40\n",
    "        }\n",
    "    response = model.predict(prompt,**parameters)\n",
    "    print(response.text)\n"
   ]
  },
  {
   "cell_type": "code",
   "execution_count": 128,
   "metadata": {},
   "outputs": [
    {
     "name": "stdout",
     "output_type": "stream",
     "text": [
      "- Key idea of the Lord of the Rings: The fight of good against evil\n",
      "\n",
      "\n",
      "- Key idea of the Harry Potter: Friendship, family, and love\n",
      "\n",
      "\n",
      "- Key idea of the Game of Thrones: Power, betrayal, loyalty\n"
     ]
    }
   ],
   "source": [
    "context = derived_ext_seg_content\n",
    "question = \"List one key idea from Lord of the Rings, Harry Potter and Game of Thrones\"\n",
    "llm_answer(question, context)"
   ]
  },
  {
   "cell_type": "code",
   "execution_count": null,
   "metadata": {},
   "outputs": [],
   "source": []
  },
  {
   "cell_type": "code",
   "execution_count": null,
   "metadata": {},
   "outputs": [],
   "source": []
  },
  {
   "cell_type": "code",
   "execution_count": null,
   "metadata": {},
   "outputs": [],
   "source": []
  },
  {
   "cell_type": "code",
   "execution_count": null,
   "metadata": {},
   "outputs": [],
   "source": []
  },
  {
   "cell_type": "code",
   "execution_count": null,
   "metadata": {},
   "outputs": [],
   "source": []
  },
  {
   "cell_type": "code",
   "execution_count": null,
   "metadata": {},
   "outputs": [],
   "source": []
  },
  {
   "cell_type": "code",
   "execution_count": null,
   "metadata": {},
   "outputs": [],
   "source": []
  },
  {
   "cell_type": "code",
   "execution_count": null,
   "metadata": {},
   "outputs": [],
   "source": []
  },
  {
   "cell_type": "code",
   "execution_count": null,
   "metadata": {},
   "outputs": [],
   "source": []
  },
  {
   "cell_type": "code",
   "execution_count": null,
   "metadata": {},
   "outputs": [],
   "source": []
  },
  {
   "cell_type": "code",
   "execution_count": null,
   "metadata": {},
   "outputs": [],
   "source": []
  },
  {
   "cell_type": "code",
   "execution_count": null,
   "metadata": {},
   "outputs": [],
   "source": []
  },
  {
   "cell_type": "code",
   "execution_count": null,
   "metadata": {},
   "outputs": [],
   "source": []
  },
  {
   "cell_type": "code",
   "execution_count": null,
   "metadata": {},
   "outputs": [],
   "source": []
  },
  {
   "cell_type": "code",
   "execution_count": null,
   "metadata": {},
   "outputs": [],
   "source": []
  },
  {
   "cell_type": "code",
   "execution_count": 53,
   "metadata": {},
   "outputs": [
    {
     "data": {
      "text/html": [
       "<div>\n",
       "<style scoped>\n",
       "    .dataframe tbody tr th:only-of-type {\n",
       "        vertical-align: middle;\n",
       "    }\n",
       "\n",
       "    .dataframe tbody tr th {\n",
       "        vertical-align: top;\n",
       "    }\n",
       "\n",
       "    .dataframe thead th {\n",
       "        text-align: right;\n",
       "    }\n",
       "</style>\n",
       "<table border=\"1\" class=\"dataframe\">\n",
       "  <thead>\n",
       "    <tr style=\"text-align: right;\">\n",
       "      <th></th>\n",
       "      <th>Query</th>\n",
       "      <th>Golden Doc</th>\n",
       "      <th>Golden Doc Page Number</th>\n",
       "      <th>Golden Answer</th>\n",
       "      <th>Top 5 Docs</th>\n",
       "      <th>Top 5 extractive answers</th>\n",
       "      <th>Top 5 extractive segments</th>\n",
       "      <th>Answer / Summary</th>\n",
       "      <th>Feedback from customer / account team about returned docs and answer</th>\n",
       "    </tr>\n",
       "  </thead>\n",
       "  <tbody>\n",
       "    <tr>\n",
       "      <th>0</th>\n",
       "      <td>What was Google's revenue in 2021?</td>\n",
       "      <td>NaN</td>\n",
       "      <td>NaN</td>\n",
       "      <td>NaN</td>\n",
       "      <td>Doc: gs://cloud-samples-data/gen-app-builder/s...</td>\n",
       "      <td>Google Cloud had an Operating Loss of $890 mil...</td>\n",
       "      <td>Within Other Revenues, we are pleased with the...</td>\n",
       "      <td>Google's revenue for the full year 2021 was $5...</td>\n",
       "      <td>NaN</td>\n",
       "    </tr>\n",
       "    <tr>\n",
       "      <th>1</th>\n",
       "      <td>What was Google's revenue in 2022?</td>\n",
       "      <td>NaN</td>\n",
       "      <td>NaN</td>\n",
       "      <td>NaN</td>\n",
       "      <td>Doc: gs://cloud-samples-data/gen-app-builder/s...</td>\n",
       "      <td>Other Revenues were $8.2 billion, up 22%, driv...</td>\n",
       "      <td>Let me now turn to our segment financial resul...</td>\n",
       "      <td>Google's total revenue was $282.8 billion in 2...</td>\n",
       "      <td>NaN</td>\n",
       "    </tr>\n",
       "  </tbody>\n",
       "</table>\n",
       "</div>"
      ],
      "text/plain": [
       "                                Query Golden Doc Golden Doc Page Number  \\\n",
       "0  What was Google's revenue in 2021?        NaN                    NaN   \n",
       "1  What was Google's revenue in 2022?        NaN                    NaN   \n",
       "\n",
       "  Golden Answer                                         Top 5 Docs  \\\n",
       "0           NaN  Doc: gs://cloud-samples-data/gen-app-builder/s...   \n",
       "1           NaN  Doc: gs://cloud-samples-data/gen-app-builder/s...   \n",
       "\n",
       "                            Top 5 extractive answers  \\\n",
       "0  Google Cloud had an Operating Loss of $890 mil...   \n",
       "1  Other Revenues were $8.2 billion, up 22%, driv...   \n",
       "\n",
       "                           Top 5 extractive segments  \\\n",
       "0  Within Other Revenues, we are pleased with the...   \n",
       "1  Let me now turn to our segment financial resul...   \n",
       "\n",
       "                                    Answer / Summary  \\\n",
       "0  Google's revenue for the full year 2021 was $5...   \n",
       "1  Google's total revenue was $282.8 billion in 2...   \n",
       "\n",
       "  Feedback from customer / account team about returned docs and answer  \n",
       "0                                                NaN                    \n",
       "1                                                NaN                    "
      ]
     },
     "execution_count": 53,
     "metadata": {},
     "output_type": "execute_result"
    }
   ],
   "source": [
    "# Open the CSV file and read column values\n",
    "df = pd.read_csv(\"question_list.csv\", header=0, dtype=str)\n",
    "\n",
    "# Make Vertex AI Search request for each question\n",
    "df.apply(\n",
    "    lambda row: answer_questions(row, PROJECT_ID, LOCATION, DATA_STORE_ID, top_n=5),\n",
    "    axis=1,\n",
    ")\n",
    "\n",
    "# Output results to new TSV file\n",
    "df.to_csv(\"model_results.tsv\", index=False, sep=\"\\t\")\n",
    "\n",
    "df"
   ]
  },
  {
   "cell_type": "code",
   "execution_count": null,
   "metadata": {},
   "outputs": [],
   "source": []
  }
 ],
 "metadata": {
  "colab": {
   "name": "question_answering.ipynb",
   "toc_visible": true
  },
  "environment": {
   "kernel": "python3",
   "name": "tf2-gpu.2-11.m108",
   "type": "gcloud",
   "uri": "gcr.io/deeplearning-platform-release/tf2-gpu.2-11:m108"
  },
  "kernelspec": {
   "display_name": "Python 3 (ipykernel)",
   "language": "python",
   "name": "python3"
  },
  "language_info": {
   "codemirror_mode": {
    "name": "ipython",
    "version": 3
   },
   "file_extension": ".py",
   "mimetype": "text/x-python",
   "name": "python",
   "nbconvert_exporter": "python",
   "pygments_lexer": "ipython3",
   "version": "3.10.10"
  }
 },
 "nbformat": 4,
 "nbformat_minor": 4
}
